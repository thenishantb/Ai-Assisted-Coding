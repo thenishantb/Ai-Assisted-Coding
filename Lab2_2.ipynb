{
  "nbformat": 4,
  "nbformat_minor": 0,
  "metadata": {
    "colab": {
      "provenance": [],
      "authorship_tag": "ABX9TyMNTT9zgr8bUhLb68KFWgcB",
      "include_colab_link": true
    },
    "kernelspec": {
      "name": "python3",
      "display_name": "Python 3"
    },
    "language_info": {
      "name": "python"
    }
  },
  "cells": [
    {
      "cell_type": "markdown",
      "metadata": {
        "id": "view-in-github",
        "colab_type": "text"
      },
      "source": [
        "<a href=\"https://colab.research.google.com/github/thenishantb/Ai-Assisted-Coding/blob/main/Lab2_2.ipynb\" target=\"_parent\"><img src=\"https://colab.research.google.com/assets/colab-badge.svg\" alt=\"Open In Colab\"/></a>"
      ]
    },
    {
      "cell_type": "markdown",
      "source": [
        "Task0: Build Python Function to check the given number is prime or not.\n",
        "Prompt: Build a Python Function to check the Given Number is Prime or Not?"
      ],
      "metadata": {
        "id": "j65-zbHmsTp_"
      }
    },
    {
      "cell_type": "code",
      "source": [
        "def is_prime(num):\n",
        "  \"\"\"Checks if a number is prime.\n",
        "\n",
        "  Args:\n",
        "    num: The number to check.\n",
        "\n",
        "  Returns:\n",
        "    True if the number is prime, False otherwise.\n",
        "  \"\"\"\n",
        "  if num <= 1:\n",
        "    return False\n",
        "  for i in range(2, int(num**0.5) + 1):\n",
        "    if num % i == 0:\n",
        "      return False\n",
        "  return True\n",
        "\n",
        "# Example usage:\n",
        "print(f\"Is 7 prime? {is_prime(7)}\")\n",
        "print(f\"Is 10 prime? {is_prime(10)}\")"
      ],
      "metadata": {
        "colab": {
          "base_uri": "https://localhost:8080/"
        },
        "id": "xJi0NkXPspDD",
        "outputId": "a36ac0cf-5eda-40d6-900f-55141484d6c5"
      },
      "execution_count": 1,
      "outputs": [
        {
          "output_type": "stream",
          "name": "stdout",
          "text": [
            "Is 7 prime? True\n",
            "Is 10 prime? False\n"
          ]
        }
      ]
    },
    {
      "cell_type": "markdown",
      "source": [
        "if num <= 1:\n",
        "    return False\n",
        "  for i in range(2, int(num**0.5) + 1):\n",
        "    if num % i == 0:\n",
        "      return False\n",
        "  return True\n",
        "\n",
        "  Explanation: This part of the code is the core logic of the is_prime function. Here's a breakdown:\n",
        "\n",
        "if num <= 1:: This checks if the input number (num) is less than or equal to 1. Prime numbers are defined as being greater than 1, so any number less than or equal to 1 is not prime, and the function returns False.\n",
        "`for i in range(2, int(num0.5) + 1):**: This loop iterates through numbers starting from 2 up to the square root ofnum(inclusive). We only need to check for divisors up to the square root because if a numbernum` has a divisor greater than its square root, it must also have a divisor less than its square root.\n",
        "if num % i == 0:: Inside the loop, this checks if num is divisible by the current number i (i.e., the remainder of the division is 0). If it is, it means num has a divisor other than 1 and itself, so it's not prime, and the function returns False.\n",
        "return True: If the loop finishes without finding any divisors (meaning the if num % i == 0: condition was never met), it means the number is only divisible by 1 and itself, so it is prime, and the function returns True."
      ],
      "metadata": {
        "id": "7odqs5bkuU-k"
      }
    },
    {
      "cell_type": "markdown",
      "source": [
        "Task1: Use Gemini in Colab to Write to Write a Function that Filters out all negative numbers from a given list.\n",
        "Prompt: Write a Python Program with a function that filters out all negative numbers from a given list.\n"
      ],
      "metadata": {
        "id": "AvTlYX2B4v16"
      }
    },
    {
      "cell_type": "code",
      "source": [
        "def filter_negative_numbers(input_list):\n",
        "  \"\"\"Filters out all negative numbers from a given list.\n",
        "\n",
        "  Args:\n",
        "    input_list: The list to filter.\n",
        "\n",
        "  Returns:\n",
        "    A new list containing only the non-negative numbers from the input list.\n",
        "  \"\"\"\n",
        "  return [num for num in input_list if num >= 0]\n",
        "\n",
        "# Example usage:\n",
        "my_list = [1, -2, 3, -4, 5, 0, -6]\n",
        "filtered_list = filter_negative_numbers(my_list)\n",
        "print(f\"Original list: {my_list}\")\n",
        "print(f\"Filtered list: {filtered_list}\")"
      ],
      "metadata": {
        "colab": {
          "base_uri": "https://localhost:8080/"
        },
        "id": "bWff2XFf5Iby",
        "outputId": "a7684271-e3fa-4c14-b853-f8393b002746"
      },
      "execution_count": 2,
      "outputs": [
        {
          "output_type": "stream",
          "name": "stdout",
          "text": [
            "Original list: [1, -2, 3, -4, 5, 0, -6]\n",
            "Filtered list: [1, 3, 5, 0]\n"
          ]
        }
      ]
    },
    {
      "cell_type": "markdown",
      "source": [
        "def filter_negative_numbers(input_list):\n",
        "return [num for num in input_list if num >= 0]\n",
        "\n",
        "Explanation:\n",
        "This Python code defines a function called filter_negative_numbers that takes a list as input and returns a new list containing only the non-negative numbers from the original list.\n",
        "\n",
        "Here's a breakdown of the code:\n",
        "\n",
        "def filter_negative_numbers(input_list):: This line defines the function named filter_negative_numbers which accepts one argument, input_list.\n",
        "\n",
        "\"\"\"Filters out all negative numbers from a given list....\"\"\": This is a docstring, which explains what the function does, its arguments (Args), and what it returns (Returns).\n",
        "\n",
        "return [num for num in input_list if num >= 0]: This is a list comprehension, a concise way to create lists in Python. It works as follows:\n",
        "\n",
        "for num in input_list: It iterates through each element (num) in the input_list.\n",
        "if num >= 0: It checks if the current element (num) is greater than or equal to 0 (i.e., non-negative).\n",
        "[num ...]: If the condition if num >= 0 is true, the element num is included in the new list that is being created.\n",
        "The function then returns this new list containing only the non-negative numbers."
      ],
      "metadata": {
        "id": "HBkOKRRk6XTu"
      }
    },
    {
      "cell_type": "markdown",
      "source": [
        "Task 2: Ask Gemini to generate code that reads a text file and counts the frequency of each word. Then ask it to explain the code.\n",
        "Prompt: Write a Python Program that reads a text file and counts the frequency of each word."
      ],
      "metadata": {
        "id": "h6XKrEg169LS"
      }
    },
    {
      "cell_type": "code",
      "source": [
        "import re\n",
        "from collections import Counter\n",
        "\n",
        "def count_word_frequency(file_path):\n",
        "  \"\"\"Reads a text file and counts the frequency of each word.\n",
        "\n",
        "  Args:\n",
        "    file_path: The path to the text file.\n",
        "\n",
        "  Returns:\n",
        "    A dictionary where keys are words and values are their frequencies.\n",
        "  \"\"\"\n",
        "  try:\n",
        "    with open(file_path, 'r', encoding='utf-8') as file:\n",
        "      text = file.read().lower() # Read the file and convert to lowercase\n",
        "      words = re.findall(r'\\b\\w+\\b', text) # Find all words using regex\n",
        "      word_counts = Counter(words) # Count word frequencies\n",
        "      return word_counts\n",
        "  except FileNotFoundError:\n",
        "    return f\"Error: File not found at {file_path}\"\n",
        "  except Exception as e:\n",
        "    return f\"An error occurred: {e}\"\n",
        "\n",
        "# Example usage:\n",
        "# Create a dummy text file for testing\n",
        "with open(\"sample.txt\", \"w\") as f:\n",
        "    f.write(\"This is a sample text file.\\n\")\n",
        "    f.write(\"This file contains some sample text.\\n\")\n",
        "    f.write(\"Sample text is useful for testing.\")\n",
        "\n",
        "file_path = \"sample.txt\"\n",
        "word_frequencies = count_word_frequency(file_path)\n",
        "\n",
        "if isinstance(word_frequencies, dict):\n",
        "    # Print the word frequencies\n",
        "    for word, count in word_frequencies.items():\n",
        "        print(f\"{word}: {count}\")\n",
        "else:\n",
        "    print(word_frequencies)"
      ],
      "metadata": {
        "colab": {
          "base_uri": "https://localhost:8080/"
        },
        "id": "rbSTo9Ux6Yc5",
        "outputId": "c347837b-1b6c-4ef7-f680-816fd8083b87"
      },
      "execution_count": 3,
      "outputs": [
        {
          "output_type": "stream",
          "name": "stdout",
          "text": [
            "this: 2\n",
            "is: 2\n",
            "a: 1\n",
            "sample: 3\n",
            "text: 3\n",
            "file: 2\n",
            "contains: 1\n",
            "some: 1\n",
            "useful: 1\n",
            "for: 1\n",
            "testing: 1\n"
          ]
        }
      ]
    },
    {
      "cell_type": "markdown",
      "source": [
        "import re\n",
        "from collections import Counter\n",
        "\n",
        "def count_word_frequency(file_path):\n",
        "  \"\"\"Reads a text file and counts the frequency of each word.\n",
        "\n",
        "  Args:\n",
        "    file_path: The path to the text file.\n",
        "\n",
        "  Returns:\n",
        "    A dictionary where keys are words and values are their frequencies.\n",
        "  \"\"\"\n",
        "  try:\n",
        "    with open(file_path, 'r', encoding='utf-8') as file:\n",
        "      text = file.read().lower() # Read the file and convert to lowercase\n",
        "      words = re.findall(r'\\b\\w+\\b', text) # Find all words using regex\n",
        "      word_counts = Counter(words) # Count word frequencies\n",
        "      return word_counts\n",
        "  except FileNotFoundError:\n",
        "    return f\"Error: File not found at {file_path}\"\n",
        "  except Exception as e:\n",
        "    return f\"An error occurred: {e}\"\n",
        "\n",
        "# Example usage:\n",
        "# Create a dummy text file for testing\n",
        "with open(\"sample.txt\", \"w\") as f:\n",
        "    f.write(\"This is a sample text file.\\n\")\n",
        "    f.write(\"This file contains some sample text.\\n\")\n",
        "    f.write(\"Sample text is useful for testing.\")\n",
        "\n",
        "file_path = \"sample.txt\"\n",
        "word_frequencies = count_word_frequency(file_path)\n",
        "\n",
        "if isinstance(word_frequencies, dict):\n",
        "    # Print the word frequencies\n",
        "    for word, count in word_frequencies.items():\n",
        "        print(f\"{word}: {count}\")\n",
        "else:\n",
        "    print(word_frequencies)\n",
        "\n",
        "Explanation:\n",
        "import re: Imports the re module for regular expression operations, which are used to find words.\n",
        "from collections import Counter: Imports the Counter class from the collections module, a specialized dictionary used for counting hashable objects.\n",
        "def count_word_frequency(file_path):: Defines the function count_word_frequency that takes file_path as an argument.\n",
        "\"\"\"Reads a text file and counts the frequency of each word....\"\"\": This is a docstring explaining the function's purpose, arguments, and return value.\n",
        "try...except FileNotFoundError...except Exception:: This block handles potential errors during file operations, specifically FileNotFoundError if the file doesn't exist and a general Exception for other errors.\n",
        "with open(file_path, 'r', encoding='utf-8') as file:: Opens the specified file in read mode ('r') with UTF-8 encoding. The with statement ensures the file is automatically closed afterward.\n",
        "text = file.read().lower(): Reads the entire content of the file and converts it to lowercase for case-insensitive word counting.\n",
        "words = re.findall(r'\\b\\w+\\b', text): Uses a regular expression r'\\b\\w+\\b' to find all words in the text. \\b matches word boundaries and \\w+ matches one or more word characters (letters, numbers, underscore).\n",
        "word_counts = Counter(words): Creates a Counter object from the list of words, automatically counting the occurrences of each unique word.\n",
        "return word_counts: Returns the dictionary-like Counter object containing word frequencies.\n",
        "Example usage (with open(\"sample.txt\", \"w\")...): This part demonstrates how to use the function. It first creates a dummy text file named \"sample.txt\" with some sample content.\n",
        "file_path = \"sample.txt\": Sets the file_path variable to the name of the dummy file.\n",
        "word_frequencies = count_word_frequency(file_path): Calls the count_word_frequency function with the dummy file path and stores the result in word_frequencies.\n",
        "if isinstance(word_frequencies, dict): ... else: ...: This checks if the returned value is a dictionary (meaning the function executed successfully) and prints the word frequencies if it is, or prints the error message otherwise.\n",
        "for word, count in word_frequencies.items(): print(f\"{word}: {count}\"): If the result is a dictionary, this loop iterates through the word-frequency pairs and prints each word and its count."
      ],
      "metadata": {
        "id": "JLfL9U0S9KvO"
      }
    },
    {
      "cell_type": "markdown",
      "source": [
        "Task 3: generate a Python class called Book with attributes title, author, and a method summary() that prints the details.\n",
        "Prompt: Write a program to create a Python Class Called Book with attributes title, author, and a method summary() that prints details.\n"
      ],
      "metadata": {
        "id": "2_wbZ-4M-4s3"
      }
    },
    {
      "cell_type": "code",
      "source": [
        "class Book:\n",
        "  \"\"\"Represents a book with a title and author.\"\"\"\n",
        "\n",
        "  def __init__(self, title, author):\n",
        "    \"\"\"Initializes a new Book instance.\n",
        "\n",
        "    Args:\n",
        "      title: The title of the book.\n",
        "      author: The author of the book.\n",
        "    \"\"\"\n",
        "    self.title = title\n",
        "    self.author = author\n",
        "\n",
        "  def summary(self):\n",
        "    \"\"\"Prints the details of the book.\"\"\"\n",
        "    print(f\"Title: {self.title}\")\n",
        "    print(f\"Author: {self.author}\")\n",
        "\n",
        "# Example usage:\n",
        "my_book = Book(\"The Hitchhiker's Guide to the Galaxy\", \"Douglas Adams\")\n",
        "my_book.summary()"
      ],
      "metadata": {
        "colab": {
          "base_uri": "https://localhost:8080/"
        },
        "id": "3cubqPwJ9qDW",
        "outputId": "dee7965e-6c80-4f2d-ed82-17d13366cec6"
      },
      "execution_count": 4,
      "outputs": [
        {
          "output_type": "stream",
          "name": "stdout",
          "text": [
            "Title: The Hitchhiker's Guide to the Galaxy\n",
            "Author: Douglas Adams\n"
          ]
        }
      ]
    },
    {
      "cell_type": "markdown",
      "source": [
        "class Book:\n",
        "\n",
        "\n",
        "  def __init__(self, title, author):\n",
        "\n",
        "      title: The title of the book.\n",
        "      author: The author of the book.\n",
        "\n",
        "\n",
        "  def summary(self):\n",
        "    print(f\"Title: {self.title}\")\n",
        "    print(f\"Author: {self.author}\")\n",
        "\n",
        "Explanation:\n",
        "This code defines a Python class named Book. Here's a breakdown of its components:\n",
        "\n",
        "class Book:: This line declares the start of a new class definition named Book.\n",
        "\"\"\"Represents a book with a title and author.\"\"\": This is a docstring for the class, providing a brief description of what the Book class represents.\n",
        "def __init__(self, title, author):: This is the constructor method of the class.\n",
        "__init__ is a special method that is automatically called when you create a new object (an instance) of the class.\n",
        "self refers to the instance of the class being created.\n",
        "title and author are parameters that you pass when creating a new Book object.\n",
        "Inside __init__, self.title = title and self.author = author assign the values passed as arguments to the title and author attributes of the Book instance.\n",
        "\"\"\"Initializes a new Book instance....\"\"\": This is a docstring for the __init__ method, explaining its purpose and arguments.\n",
        "def summary(self):: This defines a method named summary within the Book class.\n",
        "self is required as the first parameter in instance methods and refers to the instance of the class.\n",
        "This method is designed to print the details (title and author) of the specific Book instance it is called on.\n",
        "\"\"\"Prints the details of the book.\"\"\": This is a docstring for the summary method.\n",
        "print(f\"Title: {self.title}\"): This line inside the summary method accesses the title attribute of the current Book instance (self.title) and prints it.\n",
        "print(f\"Author: {self.author}\"): This line inside the summary method accesses the author attribute of the current Book instance (self.author) and prints it.\n",
        "In essence, this class provides a blueprint for creating Book objects, each having a title and author, and a way to display those details using the summary method."
      ],
      "metadata": {
        "id": "hhV3yHgJ_EEe"
      }
    },
    {
      "cell_type": "markdown",
      "source": [
        "Task 4:Ask Gemini to write a program that checks whether a number is an Armstrong number, and then modify it to improve performance or structure.\n",
        "Prompt: write a program that checks whether a number is an Armstrong number."
      ],
      "metadata": {
        "id": "XHagczG4_4oA"
      }
    },
    {
      "cell_type": "code",
      "metadata": {
        "colab": {
          "base_uri": "https://localhost:8080/"
        },
        "id": "bf3a88f1",
        "outputId": "d56eff85-43d1-49d0-a449-5e86931e6f25"
      },
      "source": [
        "def is_armstrong_number(num):\n",
        "\n",
        "  # Convert the number to a string to get the number of digits\n",
        "  num_str = str(num)\n",
        "  num_digits = len(num_str)\n",
        "\n",
        "  # Calculate the sum of each digit raised to the power of the number of digits\n",
        "  armstrong_sum = 0\n",
        "  for digit in num_str:\n",
        "    armstrong_sum += int(digit) ** num_digits\n",
        "\n",
        "  # Check if the sum is equal to the original number\n",
        "  return armstrong_sum == num\n",
        "\n",
        "# Example usage:\n",
        "print(f\"Is 153 an Armstrong number? {is_armstrong_number(153)}\")\n",
        "print(f\"Is 9 an Armstrong number? {is_armstrong_number(9)}\")\n",
        "print(f\"Is 10 an Armstrong number? {is_armstrong_number(10)}\")"
      ],
      "execution_count": 5,
      "outputs": [
        {
          "output_type": "stream",
          "name": "stdout",
          "text": [
            "Is 153 an Armstrong number? True\n",
            "Is 9 an Armstrong number? True\n",
            "Is 10 an Armstrong number? False\n"
          ]
        }
      ]
    },
    {
      "cell_type": "markdown",
      "source": [
        "def is_armstrong_number(num):\n",
        "\n",
        "  num_str = str(num)\n",
        "  num_digits = len(num_str)\n",
        "\n",
        "  armstrong_sum = 0\n",
        "  for digit in num_str:\n",
        "    armstrong_sum += int(digit) ** num_digits\n",
        "\n",
        "  return armstrong_sum == num\n",
        "\n",
        "\n",
        "Explanation:\n",
        "is_armstrong_number(num) which checks if a given number num is an Armstrong number.\n",
        "\n",
        "Here's a breakdown of how it works:\n",
        "\n",
        "num_str = str(num): The input number num is converted into a string (num_str). This is done to easily access each digit of the number.\n",
        "num_digits = len(num_str): The number of digits in the number is determined by finding the length of the string representation.\n",
        "armstrong_sum = 0: A variable armstrong_sum is initialized to 0. This variable will store the sum of each digit raised to the power of the number of digits.\n",
        "for digit in num_str:: This loop iterates through each character (which represents a digit) in the num_str.\n",
        "armstrong_sum += int(digit) ** num_digits: Inside the loop:\n",
        "int(digit): The character digit is converted back into an integer.\n",
        "** num_digits: This integer digit is then raised to the power of num_digits (the total number of digits in the original number).\n",
        "armstrong_sum += ...: The result of the exponentiation is added to the armstrong_sum.\n",
        "return armstrong_sum == num: After the loop finishes, the calculated armstrong_sum is compared to the original number num.\n",
        "If they are equal, the function returns True, indicating that the number is an Armstrong number.\n",
        "If they are not equal, the function returns False"
      ],
      "metadata": {
        "id": "FhQ18VqXxk1s"
      }
    },
    {
      "cell_type": "markdown",
      "source": [
        "Task 5:Use Gemini to generate code for sorting a list of dictionaries by a specific key (e.g., age).\n",
        "Prompt: Write A python Code for Sorting a list of dictionaries by a specific key (e.g., age)."
      ],
      "metadata": {
        "id": "N6FzoHWcx2xl"
      }
    },
    {
      "cell_type": "code",
      "metadata": {
        "colab": {
          "base_uri": "https://localhost:8080/"
        },
        "id": "d5683b71",
        "outputId": "9c1170e5-7f8f-4b5b-83df-37e0a804de72"
      },
      "source": [
        "def sort_list_of_dictionaries(list_of_dicts, sort_key):\n",
        "  \"\"\"Sorts a list of dictionaries by a specified key.\n",
        "\n",
        "  Args:\n",
        "    list_of_dicts: The list of dictionaries to sort.\n",
        "    sort_key: The key to sort the dictionaries by.\n",
        "\n",
        "  Returns:\n",
        "    A new list of dictionaries sorted by the specified key.\n",
        "  \"\"\"\n",
        "  return sorted(list_of_dicts, key=lambda x: x[sort_key])\n",
        "\n",
        "# Example usage:\n",
        "people = [\n",
        "    {\"name\": \"Alice\", \"age\": 30},\n",
        "    {\"name\": \"Bob\", \"age\": 25},\n",
        "    {\"name\": \"Charlie\", \"age\": 35},\n",
        "    {\"name\": \"David\", \"age\": 25},\n",
        "]\n",
        "\n",
        "sorted_by_age = sort_list_of_dictionaries(people, \"age\")\n",
        "print(\"Sorted by age:\")\n",
        "for person in sorted_by_age:\n",
        "  print(person)\n",
        "\n",
        "sorted_by_name = sort_list_of_dictionaries(people, \"name\")\n",
        "print(\"\\nSorted by name:\")\n",
        "for person in sorted_by_name:\n",
        "  print(person)"
      ],
      "execution_count": 1,
      "outputs": [
        {
          "output_type": "stream",
          "name": "stdout",
          "text": [
            "Sorted by age:\n",
            "{'name': 'Bob', 'age': 25}\n",
            "{'name': 'David', 'age': 25}\n",
            "{'name': 'Alice', 'age': 30}\n",
            "{'name': 'Charlie', 'age': 35}\n",
            "\n",
            "Sorted by name:\n",
            "{'name': 'Alice', 'age': 30}\n",
            "{'name': 'Bob', 'age': 25}\n",
            "{'name': 'Charlie', 'age': 35}\n",
            "{'name': 'David', 'age': 25}\n"
          ]
        }
      ]
    },
    {
      "cell_type": "markdown",
      "source": [
        "def sort_list_of_dictionaries(list_of_dicts, sort_key):\n",
        "\n",
        "  return sorted(list_of_dicts, key=lambda x: x[sort_key])\n",
        "Explanation:\n",
        " This selected code defines a Python function called sort_list_of_dictionaries that takes a list of dictionaries and a key name as input and returns a new list of those dictionaries sorted based on the values associated with the specified key.\n",
        "\n",
        "Here's a breakdown:\n",
        "\n",
        "def sort_list_of_dictionaries(list_of_dicts, sort_key):: This line defines the function named sort_list_of_dictionaries which accepts two arguments:\n",
        "list_of_dicts: The list containing the dictionaries you want to sort.\n",
        "sort_key: A string representing the key within each dictionary that you want to sort by (e.g., \"age\", \"name\").\n",
        "\"\"\"Sorts a list of dictionaries by a specified key....\"\"\": This is a docstring explaining the function's purpose, arguments, and what it returns.\n",
        "return sorted(list_of_dicts, key=lambda x: x[sort_key]): This is the core of the sorting logic:\n",
        "sorted(list_of_dicts, ...): This uses Python's built-in sorted() function, which returns a new sorted list from the items in an iterable (in this case, list_of_dicts).\n",
        "key=lambda x: x[sort_key]: This is the crucial part that tells sorted() how to sort the dictionaries.\n",
        "lambda x: ...: This defines a small, anonymous function (a lambda function). This function takes one argument, x. When sorted() is used with a key, it calls this key function for each item in the list (x will be one of the dictionaries in list_of_dicts) and uses the return value of this function as the basis for sorting.\n",
        "x[sort_key]: Inside the lambda function, x represents a dictionary from the list. x[sort_key] accesses the value associated with the sort_key string within that dictionary. So, the lambda function effectively tells sorted() to use the value of the specified key in each dictionary for comparison during the sorting process.\n",
        "In summary, the function uses sorted() with a lambda function to extract the value of the sort_key from each dictionary and sorts the list based on these extracted values."
      ],
      "metadata": {
        "id": "fM1Gd51RzXNc"
      }
    }
  ]
}